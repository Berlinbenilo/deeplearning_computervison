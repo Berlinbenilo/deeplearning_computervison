{
 "cells": [
  {
   "cell_type": "markdown",
   "id": "f1a78b77-20f2-4631-ab08-3b09ad1c8e43",
   "metadata": {},
   "source": [
    "# Deeplearning for computer vision"
   ]
  },
  {
   "attachments": {},
   "cell_type": "markdown",
   "id": "eb695803-5b2c-4d2c-824f-555d08532114",
   "metadata": {},
   "source": [
    "## Tensors:\n",
    "\n",
    "Tensors are multi deimetional arrays. The array is an ordered arrangement of numbers.\n",
    "\n",
    "For example,\n",
    "\n",
    "[8] -> 0 Dimentional tensors\n",
    "\n",
    "[1,3,4] -> 1 Dimentional tensors\n",
    "\n",
    "[[1,3,4],\n",
    "[2,4,5]] -> 2 Dimentional tensors\n",
    "\n",
    "Serval 2D tensors combine to form 3D tensors and so on.\n",
    "\n",
    "Probablity distribution reference:\n",
    "https://www.acsu.buffalo.edu/~adamcunn/probability/probability.html"
   ]
  },
  {
   "cell_type": "code",
   "execution_count": 1,
   "id": "61a8fc10-1ff1-4d93-ab81-e4c25cf1a872",
   "metadata": {},
   "outputs": [],
   "source": [
    "import tensorflow as tf"
   ]
  },
  {
   "cell_type": "code",
   "execution_count": 2,
   "id": "d8fdc475-c16a-4565-ae45-e799ecb75589",
   "metadata": {},
   "outputs": [
    {
     "name": "stdout",
     "output_type": "stream",
     "text": [
      "tf.Tensor(1, shape=(), dtype=int32)\n"
     ]
    }
   ],
   "source": [
    "# create tensor\n",
    "tensor_0_d = tf.constant(1)\n",
    "print(tensor_0_d)"
   ]
  },
  {
   "cell_type": "code",
   "execution_count": 3,
   "id": "9cf4549a-e97c-4866-9975-134c7d76e303",
   "metadata": {},
   "outputs": [
    {
     "name": "stdout",
     "output_type": "stream",
     "text": [
      "tf.Tensor([2 4 5 6 5], shape=(5,), dtype=int32)\n"
     ]
    }
   ],
   "source": [
    "tensor_1_d = tf.constant([2,4,5,6,5])\n",
    "print(tensor_1_d)"
   ]
  },
  {
   "cell_type": "code",
   "execution_count": 15,
   "id": "31b49100-7085-4939-94df-820f00ba497d",
   "metadata": {},
   "outputs": [
    {
     "data": {
      "text/plain": [
       "<tf.Tensor: shape=(5,), dtype=float16, numpy=array([2., 4., 5., 6., 5.], dtype=float16)>"
      ]
     },
     "execution_count": 15,
     "metadata": {},
     "output_type": "execute_result"
    }
   ],
   "source": [
    "tf.constant([2,4,5,6,5],dtype=tf.float16) # 16, 32, 64 will denotes how much memory allocate to the tensor"
   ]
  },
  {
   "cell_type": "code",
   "execution_count": 18,
   "id": "ae92512c-97b0-4148-9e1c-a5fb54e0a6c0",
   "metadata": {},
   "outputs": [
    {
     "data": {
      "text/plain": [
       "<tf.Tensor: shape=(5,), dtype=int16, numpy=array([2, 4, 6, 6, 5], dtype=int16)>"
      ]
     },
     "execution_count": 18,
     "metadata": {},
     "output_type": "execute_result"
    }
   ],
   "source": [
    "# To convert float tensor to int tensor or other conversion we can use tf.cast. If we try to assign directly datatype as int for convert float tensor to int, this leads to error.\n",
    "float_tensor = tf.constant([2,4.3,6.5,6,5],dtype=tf.float16)\n",
    "int_tensor = tf.cast(float_tensor, dtype=tf.int16)\n",
    "int_tensor"
   ]
  },
  {
   "cell_type": "code",
   "execution_count": 19,
   "id": "7f70d625-6912-4f23-bd10-5ab9e3f94d75",
   "metadata": {},
   "outputs": [
    {
     "data": {
      "text/plain": [
       "<tf.Tensor: shape=(5,), dtype=bool, numpy=array([ True,  True,  True,  True,  True])>"
      ]
     },
     "execution_count": 19,
     "metadata": {},
     "output_type": "execute_result"
    }
   ],
   "source": [
    "tf.cast(float_tensor, dtype=tf.bool)"
   ]
  },
  {
   "cell_type": "code",
   "execution_count": 20,
   "id": "c8e1c9d6-43e3-4890-8180-b550974b6f5b",
   "metadata": {},
   "outputs": [
    {
     "data": {
      "text/plain": [
       "<tf.Tensor: shape=(2,), dtype=string, numpy=array([b'hi', b'hello'], dtype=object)>"
      ]
     },
     "execution_count": 20,
     "metadata": {},
     "output_type": "execute_result"
    }
   ],
   "source": [
    "tf.constant(['hi','hello'])"
   ]
  },
  {
   "cell_type": "code",
   "execution_count": 5,
   "id": "74198a57-6f8d-42e6-8c38-48ccdcf60c0a",
   "metadata": {},
   "outputs": [
    {
     "name": "stdout",
     "output_type": "stream",
     "text": [
      "tf.Tensor(\n",
      "[[2 4 5 6 5]\n",
      " [2 4 5 6 5]\n",
      " [2 4 5 6 5]], shape=(3, 5), dtype=int32)\n"
     ]
    }
   ],
   "source": [
    "tensor_2_d = tf.constant([\n",
    "    [2,4,5,6,5],\n",
    "    [2,4,5,6,5],\n",
    "    [2,4,5,6,5]\n",
    "])\n",
    "print(tensor_2_d)"
   ]
  },
  {
   "cell_type": "code",
   "execution_count": 7,
   "id": "b74cedef-35ee-4c2a-99b9-434afbd2c0c3",
   "metadata": {},
   "outputs": [
    {
     "name": "stdout",
     "output_type": "stream",
     "text": [
      "tf.Tensor(\n",
      "[[[2 4 5 6 5]\n",
      "  [2 4 5 6 5]\n",
      "  [2 4 5 6 5]]\n",
      "\n",
      " [[2 4 5 6 5]\n",
      "  [2 4 5 6 5]\n",
      "  [2 4 5 6 5]]], shape=(2, 3, 5), dtype=int32)\n"
     ]
    }
   ],
   "source": [
    "tensor_3_d = tf.constant([\n",
    "    [[2, 4 ,5 ,6, 5],\n",
    "     [2, 4, 5, 6, 5],\n",
    "     [2, 4, 5, 6, 5]],\n",
    "    [[2, 4, 5,6, 5],\n",
    "     [2, 4, 5, 6, 5],\n",
    "     [2, 4, 5, 6, 5]]\n",
    "])\n",
    "print(tensor_3_d)"
   ]
  },
  {
   "cell_type": "code",
   "execution_count": 10,
   "id": "6b4c6510-a696-48b6-b90c-b3145d1cfa69",
   "metadata": {},
   "outputs": [
    {
     "data": {
      "text/plain": [
       "TensorShape([2, 3, 5])"
      ]
     },
     "execution_count": 10,
     "metadata": {},
     "output_type": "execute_result"
    }
   ],
   "source": [
    "# get tensor shape\n",
    "tensor_3_d.shape"
   ]
  },
  {
   "cell_type": "code",
   "execution_count": 11,
   "id": "178695e8-96f6-4630-9b1c-af163777ef60",
   "metadata": {},
   "outputs": [
    {
     "data": {
      "text/plain": [
       "3"
      ]
     },
     "execution_count": 11,
     "metadata": {},
     "output_type": "execute_result"
    }
   ],
   "source": [
    "# get tensor dimention\n",
    "tensor_3_d.ndim"
   ]
  },
  {
   "cell_type": "markdown",
   "id": "cdadd992-cafc-4bba-abbf-4bd48b560411",
   "metadata": {},
   "source": [
    "Stacking a several 3-D tensor will form a 4-D tensor"
   ]
  },
  {
   "cell_type": "code",
   "execution_count": 12,
   "id": "85596be5-9ed8-40d4-a6d8-df9a91f36e72",
   "metadata": {},
   "outputs": [
    {
     "name": "stdout",
     "output_type": "stream",
     "text": [
      "tf.Tensor(\n",
      "[[[[2 4 5 6 5]\n",
      "   [2 4 5 6 5]\n",
      "   [2 4 5 6 5]]\n",
      "\n",
      "  [[2 4 5 6 5]\n",
      "   [2 4 5 6 5]\n",
      "   [2 4 5 6 5]]]\n",
      "\n",
      "\n",
      " [[[2 4 5 6 5]\n",
      "   [2 4 5 6 5]\n",
      "   [2 4 5 6 5]]\n",
      "\n",
      "  [[2 4 5 6 5]\n",
      "   [2 4 5 6 5]\n",
      "   [2 4 5 6 5]]]], shape=(2, 2, 3, 5), dtype=int32)\n"
     ]
    }
   ],
   "source": [
    "tensor_4_d = tf.constant([\n",
    "    [\n",
    "    [[2, 4 ,5 ,6, 5],\n",
    "     [2, 4, 5, 6, 5],\n",
    "     [2, 4, 5, 6, 5]],\n",
    "    [[2, 4, 5,6, 5],\n",
    "     [2, 4, 5, 6, 5],\n",
    "     [2, 4, 5, 6, 5]]\n",
    "],\n",
    "    [\n",
    "    [[2, 4 ,5 ,6, 5],\n",
    "     [2, 4, 5, 6, 5],\n",
    "     [2, 4, 5, 6, 5]],\n",
    "    [[2, 4, 5,6, 5],\n",
    "     [2, 4, 5, 6, 5],\n",
    "     [2, 4, 5, 6, 5]]\n",
    "]\n",
    "])\n",
    "print(tensor_4_d)"
   ]
  },
  {
   "cell_type": "code",
   "execution_count": 21,
   "id": "8b043ba5-0ecb-44e1-9753-42c2f4e76a13",
   "metadata": {},
   "outputs": [],
   "source": [
    "# convert numpy array to tensor\n",
    "import numpy as np\n",
    "array = np.array([1,3,4])"
   ]
  },
  {
   "cell_type": "code",
   "execution_count": 22,
   "id": "5fe2a736-b958-4272-935e-cbecfea30dbb",
   "metadata": {},
   "outputs": [
    {
     "data": {
      "text/plain": [
       "array([1, 3, 4])"
      ]
     },
     "execution_count": 22,
     "metadata": {},
     "output_type": "execute_result"
    }
   ],
   "source": [
    "array"
   ]
  },
  {
   "cell_type": "code",
   "execution_count": 23,
   "id": "3e401fba-10a2-47c2-b7e0-a16d282a75d4",
   "metadata": {},
   "outputs": [
    {
     "data": {
      "text/plain": [
       "<tf.Tensor: shape=(3,), dtype=int32, numpy=array([1, 3, 4])>"
      ]
     },
     "execution_count": 23,
     "metadata": {},
     "output_type": "execute_result"
    }
   ],
   "source": [
    "tf.convert_to_tensor(array)"
   ]
  },
  {
   "cell_type": "code",
   "execution_count": 26,
   "id": "c749669c-969f-4921-9097-92e218c8b261",
   "metadata": {},
   "outputs": [
    {
     "data": {
      "text/plain": [
       "<tf.Tensor: shape=(3, 3), dtype=float32, numpy=\n",
       "array([[1., 0., 0.],\n",
       "       [0., 1., 0.],\n",
       "       [0., 0., 1.]], dtype=float32)>"
      ]
     },
     "execution_count": 26,
     "metadata": {},
     "output_type": "execute_result"
    }
   ],
   "source": [
    "# Create identity matrix\n",
    "eye_tensor = tf.eye(num_rows=3)\n",
    "eye_tensor"
   ]
  },
  {
   "cell_type": "code",
   "execution_count": 27,
   "id": "fea2013c-d711-45ba-aa88-84290d588aea",
   "metadata": {},
   "outputs": [
    {
     "data": {
      "text/plain": [
       "<tf.Tensor: shape=(3, 3), dtype=float32, numpy=\n",
       "array([[3., 0., 0.],\n",
       "       [0., 3., 0.],\n",
       "       [0., 0., 3.]], dtype=float32)>"
      ]
     },
     "execution_count": 27,
     "metadata": {},
     "output_type": "execute_result"
    }
   ],
   "source": [
    "eye_tensor * 3"
   ]
  },
  {
   "cell_type": "code",
   "execution_count": 28,
   "id": "c19e4db8-3bdc-4337-a96e-ab3fafafa8ef",
   "metadata": {},
   "outputs": [
    {
     "data": {
      "text/plain": [
       "<tf.Tensor: shape=(3, 3), dtype=bool, numpy=\n",
       "array([[ True, False, False],\n",
       "       [False,  True, False],\n",
       "       [False, False,  True]])>"
      ]
     },
     "execution_count": 28,
     "metadata": {},
     "output_type": "execute_result"
    }
   ],
   "source": [
    "tf.eye(num_rows=3, dtype=tf.bool)"
   ]
  },
  {
   "cell_type": "code",
   "execution_count": 30,
   "id": "863eedf7-d8d0-4463-aff4-7c81f2e2c7e1",
   "metadata": {},
   "outputs": [
    {
     "data": {
      "text/plain": [
       "<tf.Tensor: shape=(5, 3), dtype=int16, numpy=\n",
       "array([[1, 0, 0],\n",
       "       [0, 1, 0],\n",
       "       [0, 0, 1],\n",
       "       [0, 0, 0],\n",
       "       [0, 0, 0]], dtype=int16)>"
      ]
     },
     "execution_count": 30,
     "metadata": {},
     "output_type": "execute_result"
    }
   ],
   "source": [
    "tf.eye(num_rows=5,num_columns=3, dtype=tf.int16)"
   ]
  },
  {
   "cell_type": "code",
   "execution_count": 31,
   "id": "d9c1d7b5-a062-4d64-91e0-d5576ba584a3",
   "metadata": {},
   "outputs": [
    {
     "data": {
      "text/plain": [
       "<tf.Tensor: shape=(3, 5, 5), dtype=int16, numpy=\n",
       "array([[[1, 0, 0, 0, 0],\n",
       "        [0, 1, 0, 0, 0],\n",
       "        [0, 0, 1, 0, 0],\n",
       "        [0, 0, 0, 1, 0],\n",
       "        [0, 0, 0, 0, 1]],\n",
       "\n",
       "       [[1, 0, 0, 0, 0],\n",
       "        [0, 1, 0, 0, 0],\n",
       "        [0, 0, 1, 0, 0],\n",
       "        [0, 0, 0, 1, 0],\n",
       "        [0, 0, 0, 0, 1]],\n",
       "\n",
       "       [[1, 0, 0, 0, 0],\n",
       "        [0, 1, 0, 0, 0],\n",
       "        [0, 0, 1, 0, 0],\n",
       "        [0, 0, 0, 1, 0],\n",
       "        [0, 0, 0, 0, 1]]], dtype=int16)>"
      ]
     },
     "execution_count": 31,
     "metadata": {},
     "output_type": "execute_result"
    }
   ],
   "source": [
    "tf.eye(num_rows=5,batch_shape=[3,], dtype=tf.int16)"
   ]
  },
  {
   "cell_type": "code",
   "execution_count": 32,
   "id": "b4679dbe-564e-4142-aa84-5c1c130d031d",
   "metadata": {},
   "outputs": [
    {
     "data": {
      "text/plain": [
       "<tf.Tensor: shape=(2, 4, 5), dtype=int32, numpy=\n",
       "array([[[6, 6, 6, 6, 6],\n",
       "        [6, 6, 6, 6, 6],\n",
       "        [6, 6, 6, 6, 6],\n",
       "        [6, 6, 6, 6, 6]],\n",
       "\n",
       "       [[6, 6, 6, 6, 6],\n",
       "        [6, 6, 6, 6, 6],\n",
       "        [6, 6, 6, 6, 6],\n",
       "        [6, 6, 6, 6, 6]]])>"
      ]
     },
     "execution_count": 32,
     "metadata": {},
     "output_type": "execute_result"
    }
   ],
   "source": [
    "## Fill method\n",
    "    \n",
    "tf.fill([2,4,5], 6, name=None)"
   ]
  },
  {
   "cell_type": "code",
   "execution_count": 33,
   "id": "a055e8b5-b88e-46c2-a57f-13323f6fefd9",
   "metadata": {},
   "outputs": [
    {
     "data": {
      "text/plain": [
       "<tf.Tensor: shape=(5, 3), dtype=float32, numpy=\n",
       "array([[1., 1., 1.],\n",
       "       [1., 1., 1.],\n",
       "       [1., 1., 1.],\n",
       "       [1., 1., 1.],\n",
       "       [1., 1., 1.]], dtype=float32)>"
      ]
     },
     "execution_count": 33,
     "metadata": {},
     "output_type": "execute_result"
    }
   ],
   "source": [
    "tf.ones([5,3])"
   ]
  },
  {
   "cell_type": "code",
   "execution_count": 36,
   "id": "5c700c39-81b3-4cbf-b787-cce1bd48ce95",
   "metadata": {},
   "outputs": [
    {
     "data": {
      "text/plain": [
       "<tf.Tensor: shape=(2, 3), dtype=int32, numpy=\n",
       "array([[1, 1, 1],\n",
       "       [1, 1, 1]])>"
      ]
     },
     "execution_count": 36,
     "metadata": {},
     "output_type": "execute_result"
    }
   ],
   "source": [
    "array = np.array([[1,3,0],[2,5,7]])\n",
    "tf.ones_like(array) # convert all tensor elements into 1's"
   ]
  },
  {
   "cell_type": "code",
   "execution_count": 37,
   "id": "86afddf3-62f3-4f9b-bb8b-de5ab41d0854",
   "metadata": {},
   "outputs": [
    {
     "data": {
      "text/plain": [
       "<tf.Tensor: shape=(5, 3), dtype=float32, numpy=\n",
       "array([[0., 0., 0.],\n",
       "       [0., 0., 0.],\n",
       "       [0., 0., 0.],\n",
       "       [0., 0., 0.],\n",
       "       [0., 0., 0.]], dtype=float32)>"
      ]
     },
     "execution_count": 37,
     "metadata": {},
     "output_type": "execute_result"
    }
   ],
   "source": [
    "tf.zeros([5,3])"
   ]
  },
  {
   "cell_type": "code",
   "execution_count": 38,
   "id": "2dfb2f7c-8600-4f1d-b1b6-59ac9bf24f90",
   "metadata": {},
   "outputs": [
    {
     "data": {
      "text/plain": [
       "<tf.Tensor: shape=(2, 3), dtype=int32, numpy=\n",
       "array([[0, 0, 0],\n",
       "       [0, 0, 0]])>"
      ]
     },
     "execution_count": 38,
     "metadata": {},
     "output_type": "execute_result"
    }
   ],
   "source": [
    "tf.zeros_like(array) # convert all tensor elements into 0"
   ]
  },
  {
   "cell_type": "code",
   "execution_count": 39,
   "id": "db1b6526-a95c-4d01-8db6-528a89a9435b",
   "metadata": {},
   "outputs": [
    {
     "data": {
      "text/plain": [
       "<tf.Tensor: shape=(), dtype=int32, numpy=2>"
      ]
     },
     "execution_count": 39,
     "metadata": {},
     "output_type": "execute_result"
    }
   ],
   "source": [
    "tf.rank(tf.constant(array)) # gives dimentional rank"
   ]
  },
  {
   "cell_type": "code",
   "execution_count": 40,
   "id": "4565f7b5-a2fe-4564-89df-ab39d13efb0d",
   "metadata": {},
   "outputs": [
    {
     "data": {
      "text/plain": [
       "<tf.Tensor: shape=(), dtype=int32, numpy=15>"
      ]
     },
     "execution_count": 40,
     "metadata": {},
     "output_type": "execute_result"
    }
   ],
   "source": [
    "tf.size(tensor_2_d) # Give number of element in tensor"
   ]
  },
  {
   "cell_type": "code",
   "execution_count": 41,
   "id": "7a7e9bef-45ed-4792-8266-a450555cd98e",
   "metadata": {},
   "outputs": [
    {
     "data": {
      "text/plain": [
       "<tf.Tensor: shape=(3, 2), dtype=float32, numpy=\n",
       "array([[101.611046, 100.82534 ],\n",
       "       [ 99.889626, 101.26866 ],\n",
       "       [101.30459 ,  99.742905]], dtype=float32)>"
      ]
     },
     "execution_count": 41,
     "metadata": {},
     "output_type": "execute_result"
    }
   ],
   "source": [
    "# Generate random tensor with normal distribution\n",
    "\n",
    "# if higher the standard deviation, width of bellcurve will increase. If higher the width, The probablity of choosing value near to mean is less\n",
    "\n",
    "tf.random.normal([3,2], mean=100, stddev= 1)"
   ]
  },
  {
   "cell_type": "code",
   "execution_count": 42,
   "id": "4c0ef399-b4a4-4d3b-8677-00a010d17533",
   "metadata": {},
   "outputs": [
    {
     "data": {
      "text/plain": [
       "<tf.Tensor: shape=(3, 2), dtype=float32, numpy=\n",
       "array([[ 93.857994, 120.64225 ],\n",
       "       [107.37154 , 104.55953 ],\n",
       "       [ 93.69317 , 103.54062 ]], dtype=float32)>"
      ]
     },
     "execution_count": 42,
     "metadata": {},
     "output_type": "execute_result"
    }
   ],
   "source": [
    "tf.random.normal([3,2], mean=100, stddev= 10) # from this we can able to understand the difference"
   ]
  },
  {
   "cell_type": "code",
   "execution_count": 43,
   "id": "301df5ac-0921-427a-882b-fe6e75840ad3",
   "metadata": {},
   "outputs": [
    {
     "data": {
      "text/plain": [
       "<tf.Tensor: shape=(3, 2), dtype=float32, numpy=\n",
       "array([[69.577385, 64.962494],\n",
       "       [39.479973, 12.176776],\n",
       "       [69.11316 , 25.468863]], dtype=float32)>"
      ]
     },
     "execution_count": 43,
     "metadata": {},
     "output_type": "execute_result"
    }
   ],
   "source": [
    "# Genrate random tensor with uniform distribution\n",
    "tf.random.uniform([3,2], minval= 0, maxval=100)"
   ]
  },
  {
   "cell_type": "code",
   "execution_count": 46,
   "id": "18eaa31c-0a2a-4ee5-a594-5e58701569cd",
   "metadata": {},
   "outputs": [
    {
     "name": "stdout",
     "output_type": "stream",
     "text": [
      "tf.Tensor(\n",
      "[[31 31]\n",
      " [31 14]\n",
      " [26 13]], shape=(3, 2), dtype=int32)\n"
     ]
    }
   ],
   "source": [
    "random_tensor = tf.random.uniform([3,2], minval= 0, maxval=100, dtype=tf.int32)\n",
    "print(random_tensor)"
   ]
  },
  {
   "cell_type": "code",
   "execution_count": 48,
   "id": "e89fdfe3-7cd4-4638-9d6d-9c84cf66eb79",
   "metadata": {},
   "outputs": [
    {
     "data": {
      "text/plain": [
       "array([[31, 31],\n",
       "       [31, 14],\n",
       "       [26, 13]])"
      ]
     },
     "execution_count": 48,
     "metadata": {},
     "output_type": "execute_result"
    }
   ],
   "source": [
    "random_tensor.numpy()"
   ]
  },
  {
   "cell_type": "code",
   "execution_count": null,
   "id": "46ea66bc-a659-4b47-aed2-c604d708014d",
   "metadata": {},
   "outputs": [],
   "source": []
  }
 ],
 "metadata": {
  "kernelspec": {
   "display_name": "Python 3 (ipykernel)",
   "language": "python",
   "name": "python3"
  },
  "language_info": {
   "codemirror_mode": {
    "name": "ipython",
    "version": 3
   },
   "file_extension": ".py",
   "mimetype": "text/x-python",
   "name": "python",
   "nbconvert_exporter": "python",
   "pygments_lexer": "ipython3",
   "version": "3.10.4"
  }
 },
 "nbformat": 4,
 "nbformat_minor": 5
}
